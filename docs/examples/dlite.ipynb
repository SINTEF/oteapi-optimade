{
 "cells": [
  {
   "attachments": {},
   "cell_type": "markdown",
   "metadata": {},
   "source": [
    "# Use DLite strategies from OTEAPI-OPTIMADE\n",
    "\n",
    "This example shows how to use the DLite strategies from the OTEAPI-OPTIMADE plugin.\n",
    "\n",
    "[DLite](https://github.com/SINTEF/dlite) is a Python library for working with data models and semantics.\n",
    "It is considered to be the default semantic data model backend for use with OTEAPI.\n",
    "\n",
    "To see more fundamental examples of how to use OTEAPI-OPTIMADE, see the example [_Use OTEAPI-OPTIMADE with OTElib_](/oteapi-optimade/examples/otelib/).\n",
    "OTElib will also be used as a client in the current example.\n",
    "Furthermore, only the HTTP requests-based backend will be used in this example.\n",
    "\n",
    "## Setup\n",
    "\n",
    "Please see the [setup instructions in _Use OTEAPI-OPTIMADE with OTElib_](/oteapi-optimade/examples/otelib/#setup) for how to ensure you have a proper environment to run the example in.\n",
    "\n",
    "## Example\n",
    "\n",
    "In this example, we will use the DLite strategies to query the [Materials Project](https://www.materialsproject.org/) OPTIMADE API.\n",
    "We are interested in finding all structures that include the elements `Si` and `O`, and that have a maximum of 4 elements in total.\n",
    "\n",
    "### Create a client\n",
    "\n",
    "Let's start by initializing a client:"
   ]
  },
  {
   "cell_type": "code",
   "execution_count": null,
   "metadata": {},
   "outputs": [],
   "source": [
    "from otelib import OTEClient\n",
    "\n",
    "client = OTEClient(\"http://localhost:80\")"
   ]
  },
  {
   "attachments": {},
   "cell_type": "markdown",
   "metadata": {},
   "source": [
    "### Data Resource strategy\n",
    "\n",
    "The general pipeline is the same as it was for [_Use OTEAPI-OPTIMADE with OTElib_](otelib##search-through-materials-project-for-all-structures-with-the-formula-al2o3):\n",
    "\n",
    "<!-- The mkdocs-jupyter plugin creates a folder 'otelib' wherein it puts the generated HTML\n",
    "Therefore, we here use the \"full\" path (minus the base URL) to reference the image -->\n",
    "![Pipeline example 1](/oteapi-optimade/img/chem_formula_pipeline.png)\n",
    "\n",
    "However, in order to use DLite we need to _either_ reference a specific `accessService` **or** set a flag in the configuration of the data resource strategy.\n",
    "\n",
    "Note, it is _only_ for the data resource strategy we need to specify the usage of DLite, as the filter strategy is generic and merely a helper for more explicitly setting the query parameters to be used for the underlying OPTIMADE query."
   ]
  },
  {
   "cell_type": "code",
   "execution_count": null,
   "metadata": {},
   "outputs": [],
   "source": [
    "data_resource_strategy = client.create_dataresource(\n",
    "    accessService=\"OPTIMADE+DLite\",\n",
    "    accessUrl=\"https://optimade.materialsproject.org\",\n",
    ")\n",
    "\n",
    "# This is equivalent to:\n",
    "# data_resource_strategy = client.create_dataresource(\n",
    "#     accessService=\"OPTIMADE\",\n",
    "#     accessUrl=\"https://optimade.materialsproject.org\",\n",
    "#     configuration={\"use_dlite\": True},\n",
    "# )"
   ]
  },
  {
   "attachments": {},
   "cell_type": "markdown",
   "metadata": {},
   "source": [
    "### Filter strategy\n",
    "\n",
    "The OPTIMADE filter query to fulfill [the interests outlined above](#example) should look like this:\n",
    "\n",
    "```\n",
    "elements HAS ALL \"Si\",\"O\" AND nelements<=4\n",
    "```"
   ]
  },
  {
   "cell_type": "code",
   "execution_count": null,
   "metadata": {},
   "outputs": [],
   "source": [
    "filter_strategy = client.create_filter(\n",
    "    filterType=\"OPTIMADE\",\n",
    "    query='elements HAS ALL \"Si\",\"O\" AND nelements<=4',\n",
    ")"
   ]
  },
  {
   "attachments": {},
   "cell_type": "markdown",
   "metadata": {},
   "source": [
    "#### Setup, execute and inspect the pipeline"
   ]
  },
  {
   "cell_type": "code",
   "execution_count": null,
   "metadata": {},
   "outputs": [],
   "source": [
    "import json\n",
    "\n",
    "pipeline = filter_strategy >> data_resource_strategy\n",
    "session = pipeline.get()\n",
    "# parsed_session = json.loads(session)\n",
    "# parsed_session.keys()"
   ]
  }
 ],
 "metadata": {
  "kernelspec": {
   "display_name": "oteapi-optimade",
   "language": "python",
   "name": "python3"
  },
  "language_info": {
   "codemirror_mode": {
    "name": "ipython",
    "version": 3
   },
   "file_extension": ".py",
   "mimetype": "text/x-python",
   "name": "python",
   "nbconvert_exporter": "python",
   "pygments_lexer": "ipython3",
   "version": "3.9.16"
  },
  "orig_nbformat": 4
 },
 "nbformat": 4,
 "nbformat_minor": 2
}
